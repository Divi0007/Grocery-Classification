{
  "cells": [
    {
      "cell_type": "code",
      "execution_count": null,
      "metadata": {
        "colab": {
          "base_uri": "https://localhost:8080/"
        },
        "id": "QCJyKRHFLx4M",
        "outputId": "06cbab15-08c5-4a81-e06c-78a62eb5c49c"
      },
      "outputs": [
        {
          "output_type": "stream",
          "name": "stdout",
          "text": [
            "Collecting keras_applications\n",
            "  Downloading Keras_Applications-1.0.8-py3-none-any.whl (50 kB)\n",
            "\u001b[?25l     \u001b[90m━━━━━━━━━━━━━━━━━━━━━━━━━━━━━━━━━━━━━━━━\u001b[0m \u001b[32m0.0/50.7 kB\u001b[0m \u001b[31m?\u001b[0m eta \u001b[36m-:--:--\u001b[0m\r\u001b[2K     \u001b[90m━━━━━━━━━━━━━━━━━━━━━━━━━━━━━━━━━━━━━━━━\u001b[0m \u001b[32m50.7/50.7 kB\u001b[0m \u001b[31m2.7 MB/s\u001b[0m eta \u001b[36m0:00:00\u001b[0m\n",
            "\u001b[?25hRequirement already satisfied: numpy>=1.9.1 in /usr/local/lib/python3.10/dist-packages (from keras_applications) (1.22.4)\n",
            "Requirement already satisfied: h5py in /usr/local/lib/python3.10/dist-packages (from keras_applications) (3.8.0)\n",
            "Installing collected packages: keras_applications\n",
            "Successfully installed keras_applications-1.0.8\n"
          ]
        }
      ],
      "source": [
        "!pip install keras_applications"
      ]
    },
    {
      "cell_type": "code",
      "execution_count": null,
      "metadata": {
        "id": "64sohNI9lCGt"
      },
      "outputs": [],
      "source": [
        "\n",
        "import tensorflow as tf\n",
        "\n",
        "gpus = tf.config.list_physical_devices('GPU')\n",
        "if gpus:\n",
        "  # Restrict TensorFlow to only use the first GPU\n",
        "  try:\n",
        "    tf.config.set_visible_devices(gpus[0], 'GPU')\n",
        "    logical_gpus = tf.config.list_logical_devices('GPU')\n",
        "    print(len(gpus), \"Physical GPUs,\", len(logical_gpus), \"Logical GPU\")\n",
        "  except RuntimeError as e:\n",
        "    # Visible devices must be set before GPUs have been initialized\n",
        "    print(e)"
      ]
    },
    {
      "cell_type": "code",
      "execution_count": null,
      "metadata": {
        "id": "ZkaGKePOoonA"
      },
      "outputs": [],
      "source": [
        "from __future__ import absolute_import\n",
        "from __future__ import division\n",
        "from __future__ import print_function\n",
        "\n",
        "import collections\n",
        "import math\n",
        "import os\n",
        "import random\n",
        "from six.moves import urllib\n",
        "import io\n",
        "import shutil\n",
        "\n",
        "from IPython.display import clear_output, Image, display, HTML\n",
        "\n",
        "\n",
        "import tensorflow as tf\n",
        "import tensorflow_hub as hub\n",
        "\n",
        "import numpy as np\n",
        "import matplotlib.pyplot as plt\n",
        "import seaborn as sns\n",
        "import sklearn.metrics as sk_metrics\n",
        "import time\n",
        "from keras_applications.resnet import ResNet50\n",
        "from keras_applications.resnet import preprocess_input\n",
        "from keras.preprocessing.image import ImageDataGenerator\n",
        "from keras import optimizers\n",
        "\n",
        "from keras.applications.inception_v3 import InceptionV3\n",
        "from keras_applications.resnet50 import preprocess_input, decode_predictions, ResNet50\n",
        "import keras.utils as image\n",
        "from keras import regularizers\n",
        "from keras.models import Model\n",
        "from keras.layers import Dense, GlobalAveragePooling2D, BatchNormalization, Dropout, Flatten\n",
        "from keras import backend as K"
      ]
    },
    {
      "cell_type": "code",
      "execution_count": null,
      "metadata": {
        "id": "neC0907ioywJ"
      },
      "outputs": [],
      "source": [
        "from sklearn.metrics import confusion_matrix\n",
        "def plot_confusion_matrix(y_true, y_pred, classes,\n",
        "                          normalize=False,\n",
        "                          title=None,\n",
        "                          cmap=plt.cm.Blues):\n",
        "    \"\"\"\n",
        "    This function prints and plots the confusion matrix.\n",
        "    Normalization can be applied by setting `normalize=True`.\n",
        "    \"\"\"\n",
        "    if not title:\n",
        "        if normalize:\n",
        "            title = 'Normalized confusion matrix'\n",
        "        else:\n",
        "            title = 'Confusion matrix, without normalization'\n",
        "\n",
        "    # Compute confusion matrix\n",
        "    cm = confusion_matrix(y_true, y_pred)\n",
        "    # Only use the labels that appear in the data\n",
        "    classes = classes\n",
        "    if normalize:\n",
        "        cm = cm.astype('float') / cm.sum(axis=1)[:, np.newaxis]\n",
        "        print(\"Normalized confusion matrix\")\n",
        "    else:\n",
        "        print('Confusion matrix, without normalization')\n",
        "\n",
        "    print(cm)\n",
        "\n",
        "    fig, ax = plt.subplots()\n",
        "    im = ax.imshow(cm, interpolation='nearest', cmap=cmap)\n",
        "    ax.figure.colorbar(im, ax=ax)\n",
        "    # We want to show all ticks...\n",
        "    ax.set(xticks=np.arange(cm.shape[1]),\n",
        "           yticks=np.arange(cm.shape[0]),\n",
        "           # ... and label them with the respective list entries\n",
        "           xticklabels=classes, yticklabels=classes,\n",
        "           title=title,\n",
        "           ylabel='True label',\n",
        "           xlabel='Predicted label')\n",
        "\n",
        "    # Rotate the tick labels and set their alignment.\n",
        "    plt.setp(ax.get_xticklabels(), rotation=45, ha=\"right\",\n",
        "             rotation_mode=\"anchor\")\n",
        "\n",
        "    # Loop over data dimensions and create text annotations.\n",
        "    fmt = '.2f' if normalize else 'd'\n",
        "    thresh = cm.max() / 2.\n",
        "    for i in range(cm.shape[0]):\n",
        "        for j in range(cm.shape[1]):\n",
        "            ax.text(j, i, format(cm[i, j], fmt),\n",
        "                    ha=\"center\", va=\"center\",\n",
        "                    color=\"white\" if cm[i, j] > thresh else \"black\")\n",
        "    fig.tight_layout()\n",
        "    return ax\n",
        "\n"
      ]
    },
    {
      "cell_type": "code",
      "execution_count": null,
      "metadata": {
        "colab": {
          "base_uri": "https://localhost:8080/"
        },
        "id": "c6mxtmBco093",
        "outputId": "4618ac78-686a-455c-9bde-a0752aa23a83"
      },
      "outputs": [
        {
          "output_type": "stream",
          "name": "stdout",
          "text": [
            "Mounted at /content/gdrive\n"
          ]
        }
      ],
      "source": [
        "from google.colab import drive\n",
        "drive.mount('/content/gdrive')\n",
        "## set train, validation, and test paths\n"
      ]
    },
    {
      "cell_type": "code",
      "source": [
        "train_path = '/content/gdrive/MyDrive/dataset/train'\n",
        "validation_path = '/content/gdrive/MyDrive/dataset/val'\n",
        "test_path = '/content/gdrive/MyDrive/dataset/test'"
      ],
      "metadata": {
        "id": "J5JJ4e9EDP5a"
      },
      "execution_count": null,
      "outputs": []
    },
    {
      "cell_type": "code",
      "execution_count": null,
      "metadata": {
        "colab": {
          "base_uri": "https://localhost:8080/"
        },
        "id": "pNgwUHRBq3DX",
        "outputId": "67d63dbe-251b-4f20-f3a8-49ad266bc360"
      },
      "outputs": [
        {
          "name": "stdout",
          "output_type": "stream",
          "text": [
            "Found 2640 images belonging to 3 classes.\n",
            "Found 296 images belonging to 3 classes.\n",
            "Found 2485 images belonging to 3 classes.\n"
          ]
        }
      ],
      "source": [
        "train_batches  = ImageDataGenerator().flow_from_directory(\n",
        "    train_path, target_size=(224,224), classes = ['Fruit', 'Packages', 'Vegetables'], batch_size = 50)\n",
        "\n",
        "validation_batches  = ImageDataGenerator().flow_from_directory(\n",
        "    validation_path, target_size=(224,224), classes = ['Fruit', 'Packages', 'Vegetables'], batch_size = 10)\n",
        "\n",
        "test_batches  = ImageDataGenerator().flow_from_directory(\n",
        "    test_path, target_size=(224,224), classes = ['Fruit', 'Packages', 'Vegetables'], batch_size = 10)"
      ]
    },
    {
      "cell_type": "code",
      "execution_count": null,
      "metadata": {
        "colab": {
          "base_uri": "https://localhost:8080/"
        },
        "id": "YlsuObB8T47s",
        "outputId": "8d706134-d942-4dea-d04e-3436b1a41bce"
      },
      "outputs": [
        {
          "name": "stdout",
          "output_type": "stream",
          "text": [
            "data batch shape: (50, 224, 224, 3)\n",
            "labels batch shape: (50, 3)\n"
          ]
        }
      ],
      "source": [
        "for data_batch, labels_batch in train_batches:\n",
        "    print('data batch shape:', data_batch.shape)\n",
        "    print('labels batch shape:', labels_batch.shape)\n",
        "    break\n"
      ]
    },
    {
      "cell_type": "code",
      "execution_count": null,
      "metadata": {
        "colab": {
          "base_uri": "https://localhost:8080/"
        },
        "id": "KzXJJ9B7UD6a",
        "outputId": "7d85480a-39c4-4259-ba75-d3581133482a"
      },
      "outputs": [
        {
          "name": "stdout",
          "output_type": "stream",
          "text": [
            "Model: \"sequential\"\n",
            "_________________________________________________________________\n",
            " Layer (type)                Output Shape              Param #   \n",
            "=================================================================\n",
            " conv2d (Conv2D)             (None, 222, 222, 32)      896       \n",
            "                                                                 \n",
            " max_pooling2d (MaxPooling2D  (None, 111, 111, 32)     0         \n",
            " )                                                               \n",
            "                                                                 \n",
            " conv2d_1 (Conv2D)           (None, 109, 109, 64)      18496     \n",
            "                                                                 \n",
            " max_pooling2d_1 (MaxPooling  (None, 54, 54, 64)       0         \n",
            " 2D)                                                             \n",
            "                                                                 \n",
            " conv2d_2 (Conv2D)           (None, 52, 52, 128)       73856     \n",
            "                                                                 \n",
            " max_pooling2d_2 (MaxPooling  (None, 26, 26, 128)      0         \n",
            " 2D)                                                             \n",
            "                                                                 \n",
            " conv2d_3 (Conv2D)           (None, 24, 24, 128)       147584    \n",
            "                                                                 \n",
            " max_pooling2d_3 (MaxPooling  (None, 12, 12, 128)      0         \n",
            " 2D)                                                             \n",
            "                                                                 \n",
            " flatten (Flatten)           (None, 18432)             0         \n",
            "                                                                 \n",
            " dense (Dense)               (None, 512)               9437696   \n",
            "                                                                 \n",
            " dense_1 (Dense)             (None, 3)                 1539      \n",
            "                                                                 \n",
            "=================================================================\n",
            "Total params: 9,680,067\n",
            "Trainable params: 9,680,067\n",
            "Non-trainable params: 0\n",
            "_________________________________________________________________\n"
          ]
        }
      ],
      "source": [
        "from keras import layers\n",
        "from keras import models\n",
        "\n",
        "model = models.Sequential()\n",
        "model.add(layers.Conv2D(32, (3, 3), activation='relu',\n",
        "                        input_shape=(224, 224, 3)))\n",
        "model.add(layers.MaxPooling2D((2, 2)))\n",
        "model.add(layers.Conv2D(64, (3, 3), activation='relu'))\n",
        "model.add(layers.MaxPooling2D((2, 2)))\n",
        "model.add(layers.Conv2D(128, (3, 3), activation='relu'))\n",
        "model.add(layers.MaxPooling2D((2, 2)))\n",
        "model.add(layers.Conv2D(128, (3, 3), activation='relu'))\n",
        "model.add(layers.MaxPooling2D((2, 2)))\n",
        "model.add(layers.Flatten())\n",
        "model.add(layers.Dense(512, activation='relu'))\n",
        "model.add(layers.Dense(3, activation='softmax'))\n",
        "model.summary()"
      ]
    },
    {
      "cell_type": "code",
      "execution_count": null,
      "metadata": {
        "colab": {
          "background_save": true,
          "base_uri": "https://localhost:8080/"
        },
        "id": "RvYuiUhjUIBj",
        "outputId": "5245a6e9-ea2e-4cd0-b169-5a15f7047dd1"
      },
      "outputs": [
        {
          "name": "stderr",
          "output_type": "stream",
          "text": [
            "<ipython-input-10-1bbdbd3071f9>:11: UserWarning: `Model.fit_generator` is deprecated and will be removed in a future version. Please use `Model.fit`, which supports generators.\n",
            "  fit_generator1 = model.fit_generator(\n"
          ]
        },
        {
          "name": "stdout",
          "output_type": "stream",
          "text": [
            "Epoch 1/10\n",
            "52/52 [==============================] - 1081s 21s/step - loss: 1.7173 - acc: 0.6352 - val_loss: 0.8896 - val_acc: 0.6182\n",
            "Epoch 2/10\n",
            "52/52 [==============================] - 377s 7s/step - loss: 0.5271 - acc: 0.8004 - val_loss: 0.9808 - val_acc: 0.6284\n",
            "Epoch 3/10\n",
            "52/52 [==============================] - 380s 7s/step - loss: 0.3281 - acc: 0.8761 - val_loss: 2.0784 - val_acc: 0.5101\n",
            "Epoch 4/10\n",
            "52/52 [==============================] - 388s 7s/step - loss: 0.2476 - acc: 0.9235 - val_loss: 1.2531 - val_acc: 0.6182\n",
            "Epoch 5/10\n",
            "52/52 [==============================] - 378s 7s/step - loss: 0.1420 - acc: 0.9553 - val_loss: 1.4115 - val_acc: 0.5845\n",
            "Epoch 6/10\n",
            "52/52 [==============================] - 379s 7s/step - loss: 0.1460 - acc: 0.9629 - val_loss: 2.2354 - val_acc: 0.6014\n",
            "Epoch 7/10\n",
            "52/52 [==============================] - 368s 7s/step - loss: 0.1590 - acc: 0.9587 - val_loss: 1.3971 - val_acc: 0.6554\n",
            "Epoch 8/10\n",
            "22/52 [===========>..................] - ETA: 3:26 - loss: 0.0048 - acc: 1.0000"
          ]
        }
      ],
      "source": [
        "train_filenames = train_batches.filenames\n",
        "steps_train = len(train_filenames)/train_batches.batch_size\n",
        "\n",
        "## set steps per epoch for validation\n",
        "validation_filenames = validation_batches.filenames\n",
        "steps_valid = len(validation_filenames)/validation_batches.batch_size\n",
        "\n",
        "model.compile(loss='categorical_crossentropy',\n",
        "              optimizer=optimizers.RMSprop(lr=1e-4),\n",
        "              metrics=['acc'])\n",
        "fit_generator1 = model.fit_generator(\n",
        "      train_batches,\n",
        "      steps_per_epoch=steps_train,\n",
        "      epochs=10,\n",
        "      validation_data=validation_batches,\n",
        "      validation_steps=steps_valid)"
      ]
    },
    {
      "cell_type": "code",
      "execution_count": null,
      "metadata": {
        "colab": {
          "base_uri": "https://localhost:8080/",
          "height": 975
        },
        "id": "wVdrIUAoUJB_",
        "outputId": "bf053756-1a18-4e1b-c4b3-532e360d04c9"
      },
      "outputs": [
        {
          "name": "stderr",
          "output_type": "stream",
          "text": [
            "<ipython-input-12-ac82883176fa>:11: UserWarning: color is redundantly defined by the 'color' keyword argument and the fmt string \"b\" (-> color=(0.0, 0.0, 1.0, 1)). The keyword argument will take precedence.\n",
            "  plt.plot(epochs, val_acc, 'b', label='Validation acc', color = 'r')\n",
            "<ipython-input-12-ac82883176fa>:18: UserWarning: color is redundantly defined by the 'color' keyword argument and the fmt string \"b\" (-> color=(0.0, 0.0, 1.0, 1)). The keyword argument will take precedence.\n",
            "  plt.plot(epochs, val_loss, 'b', label='Validation loss', color = 'r')\n"
          ]
        },
        {
          "data": {
            "image/png": "[encoded data removed]",
            "text/plain": [
              "<Figure size 640x480 with 1 Axes>"
            ]
          },
          "metadata": {},
          "output_type": "display_data"
        },
        {
          "data": {
            "image/png": "[encoded data removed]",
            "text/plain": [
              "<Figure size 640x480 with 1 Axes>"
            ]
          },
          "metadata": {},
          "output_type": "display_data"
        }
      ],
      "source": [
        "import matplotlib.pyplot as plt\n",
        "\n",
        "acc = fit_generator1.history['acc']\n",
        "val_acc = fit_generator1.history['val_acc']\n",
        "loss = fit_generator1.history['loss']\n",
        "val_loss = fit_generator1.history['val_loss']\n",
        "\n",
        "epochs = range(len(acc))\n",
        "\n",
        "plt.plot(epochs, acc, 'bo', label='Training acc')\n",
        "plt.plot(epochs, val_acc, 'b', label='Validation acc', color = 'r')\n",
        "plt.title('Training and validation accuracy')\n",
        "plt.legend()\n",
        "\n",
        "plt.figure()\n",
        "\n",
        "plt.plot(epochs, loss, 'bo', label='Training loss')\n",
        "plt.plot(epochs, val_loss, 'b', label='Validation loss', color = 'r')\n",
        "plt.title('Training and validation loss')\n",
        "plt.legend()\n",
        "\n",
        "plt.show()"
      ]
    },
    {
      "cell_type": "code",
      "execution_count": null,
      "metadata": {
        "colab": {
          "base_uri": "https://localhost:8080/"
        },
        "id": "9_Q_5Hd7UML2",
        "outputId": "2e451d8a-33a3-47ff-f861-a3b473c74f0e"
      },
      "outputs": [
        {
          "name": "stdout",
          "output_type": "stream",
          "text": [
            "Found 2640 images belonging to 3 classes.\n",
            "Found 296 images belonging to 3 classes.\n"
          ]
        },
        {
          "name": "stderr",
          "output_type": "stream",
          "text": [
            "<ipython-input-13-0b004db99f15>:33: UserWarning: `Model.fit_generator` is deprecated and will be removed in a future version. Please use `Model.fit`, which supports generators.\n",
            "  fit_generator_3 = model.fit_generator(\n"
          ]
        },
        {
          "name": "stdout",
          "output_type": "stream",
          "text": [
            "Epoch 1/50\n",
            "52/52 [==============================] - 43s 787ms/step - loss: 0.7462 - acc: 0.6746 - val_loss: 0.9097 - val_acc: 0.6047\n",
            "Epoch 2/50\n",
            "52/52 [==============================] - 40s 764ms/step - loss: 0.6118 - acc: 0.7356 - val_loss: 1.1653 - val_acc: 0.5676\n",
            "Epoch 3/50\n",
            "52/52 [==============================] - 40s 764ms/step - loss: 0.5687 - acc: 0.7557 - val_loss: 0.8245 - val_acc: 0.6622\n",
            "Epoch 4/50\n",
            "52/52 [==============================] - 39s 746ms/step - loss: 0.5124 - acc: 0.7932 - val_loss: 0.8440 - val_acc: 0.6757\n",
            "Epoch 5/50\n",
            "52/52 [==============================] - 39s 739ms/step - loss: 0.4711 - acc: 0.8114 - val_loss: 0.8873 - val_acc: 0.6182\n",
            "Epoch 6/50\n",
            "52/52 [==============================] - 40s 747ms/step - loss: 0.4422 - acc: 0.8174 - val_loss: 0.8099 - val_acc: 0.6926\n",
            "Epoch 7/50\n",
            "52/52 [==============================] - 40s 749ms/step - loss: 0.4091 - acc: 0.8318 - val_loss: 0.7969 - val_acc: 0.7027\n",
            "Epoch 8/50\n",
            "52/52 [==============================] - 40s 748ms/step - loss: 0.3850 - acc: 0.8443 - val_loss: 1.0604 - val_acc: 0.6115\n",
            "Epoch 9/50\n",
            "52/52 [==============================] - 40s 755ms/step - loss: 0.3727 - acc: 0.8542 - val_loss: 0.7890 - val_acc: 0.6824\n",
            "Epoch 10/50\n",
            "52/52 [==============================] - 40s 756ms/step - loss: 0.3398 - acc: 0.8587 - val_loss: 0.9008 - val_acc: 0.6486\n",
            "Epoch 11/50\n",
            "52/52 [==============================] - 39s 748ms/step - loss: 0.3199 - acc: 0.8689 - val_loss: 0.8824 - val_acc: 0.6588\n",
            "Epoch 12/50\n",
            "52/52 [==============================] - 40s 753ms/step - loss: 0.3053 - acc: 0.8761 - val_loss: 1.0749 - val_acc: 0.6351\n",
            "Epoch 13/50\n",
            "52/52 [==============================] - 40s 759ms/step - loss: 0.2889 - acc: 0.8799 - val_loss: 0.9052 - val_acc: 0.6486\n",
            "Epoch 14/50\n",
            "52/52 [==============================] - 40s 766ms/step - loss: 0.2773 - acc: 0.8898 - val_loss: 0.8565 - val_acc: 0.7027\n",
            "Epoch 15/50\n",
            "52/52 [==============================] - 40s 750ms/step - loss: 0.2770 - acc: 0.8902 - val_loss: 1.1672 - val_acc: 0.6284\n",
            "Epoch 16/50\n",
            "52/52 [==============================] - 39s 733ms/step - loss: 0.2614 - acc: 0.9000 - val_loss: 0.8445 - val_acc: 0.6824\n",
            "Epoch 17/50\n",
            "52/52 [==============================] - 39s 741ms/step - loss: 0.2438 - acc: 0.9004 - val_loss: 1.0110 - val_acc: 0.6723\n",
            "Epoch 18/50\n",
            "52/52 [==============================] - 40s 749ms/step - loss: 0.2372 - acc: 0.9053 - val_loss: 0.7750 - val_acc: 0.7196\n",
            "Epoch 19/50\n",
            "52/52 [==============================] - 39s 733ms/step - loss: 0.2084 - acc: 0.9197 - val_loss: 0.7902 - val_acc: 0.7264\n",
            "Epoch 20/50\n",
            "52/52 [==============================] - 40s 762ms/step - loss: 0.2180 - acc: 0.9144 - val_loss: 0.7766 - val_acc: 0.7230\n",
            "Epoch 21/50\n",
            "52/52 [==============================] - 40s 751ms/step - loss: 0.2095 - acc: 0.9178 - val_loss: 0.6942 - val_acc: 0.7500\n",
            "Epoch 22/50\n",
            "52/52 [==============================] - 39s 737ms/step - loss: 0.1892 - acc: 0.9307 - val_loss: 0.7608 - val_acc: 0.7196\n",
            "Epoch 23/50\n",
            "52/52 [==============================] - 39s 729ms/step - loss: 0.1941 - acc: 0.9223 - val_loss: 0.7464 - val_acc: 0.7466\n",
            "Epoch 24/50\n",
            "52/52 [==============================] - 39s 731ms/step - loss: 0.1828 - acc: 0.9269 - val_loss: 0.7737 - val_acc: 0.7230\n",
            "Epoch 25/50\n",
            "52/52 [==============================] - 39s 733ms/step - loss: 0.1747 - acc: 0.9371 - val_loss: 0.7249 - val_acc: 0.7568\n",
            "Epoch 26/50\n",
            "52/52 [==============================] - 39s 737ms/step - loss: 0.1651 - acc: 0.9367 - val_loss: 0.8262 - val_acc: 0.6993\n",
            "Epoch 27/50\n",
            "52/52 [==============================] - 39s 735ms/step - loss: 0.1579 - acc: 0.9390 - val_loss: 1.0757 - val_acc: 0.7128\n",
            "Epoch 28/50\n",
            "52/52 [==============================] - 39s 739ms/step - loss: 0.1628 - acc: 0.9383 - val_loss: 0.7174 - val_acc: 0.7534\n",
            "Epoch 29/50\n",
            "52/52 [==============================] - 39s 738ms/step - loss: 0.1443 - acc: 0.9432 - val_loss: 0.8638 - val_acc: 0.7331\n",
            "Epoch 30/50\n",
            "52/52 [==============================] - 39s 729ms/step - loss: 0.1369 - acc: 0.9451 - val_loss: 1.1021 - val_acc: 0.7027\n",
            "Epoch 31/50\n",
            "52/52 [==============================] - 39s 733ms/step - loss: 0.1409 - acc: 0.9496 - val_loss: 0.6917 - val_acc: 0.7770\n",
            "Epoch 32/50\n",
            "52/52 [==============================] - 39s 732ms/step - loss: 0.1177 - acc: 0.9568 - val_loss: 0.7796 - val_acc: 0.7399\n",
            "Epoch 33/50\n",
            "52/52 [==============================] - 39s 743ms/step - loss: 0.1295 - acc: 0.9492 - val_loss: 0.8377 - val_acc: 0.7365\n",
            "Epoch 34/50\n",
            "52/52 [==============================] - 38s 729ms/step - loss: 0.1100 - acc: 0.9625 - val_loss: 0.9709 - val_acc: 0.7365\n",
            "Epoch 35/50\n",
            "52/52 [==============================] - 40s 745ms/step - loss: 0.1038 - acc: 0.9561 - val_loss: 0.7991 - val_acc: 0.7466\n",
            "Epoch 36/50\n",
            "52/52 [==============================] - 39s 729ms/step - loss: 0.1185 - acc: 0.9527 - val_loss: 0.8348 - val_acc: 0.7635\n",
            "Epoch 37/50\n",
            "52/52 [==============================] - 39s 737ms/step - loss: 0.1075 - acc: 0.9591 - val_loss: 0.6974 - val_acc: 0.7703\n",
            "Epoch 38/50\n",
            "52/52 [==============================] - 39s 734ms/step - loss: 0.0986 - acc: 0.9610 - val_loss: 0.7901 - val_acc: 0.7770\n",
            "Epoch 39/50\n",
            "52/52 [==============================] - 39s 735ms/step - loss: 0.0858 - acc: 0.9693 - val_loss: 0.9132 - val_acc: 0.7432\n",
            "Epoch 40/50\n",
            "52/52 [==============================] - 38s 728ms/step - loss: 0.0870 - acc: 0.9708 - val_loss: 1.2920 - val_acc: 0.6993\n",
            "Epoch 41/50\n",
            "52/52 [==============================] - 39s 735ms/step - loss: 0.0848 - acc: 0.9697 - val_loss: 0.9403 - val_acc: 0.7230\n",
            "Epoch 42/50\n",
            "52/52 [==============================] - 39s 730ms/step - loss: 0.0840 - acc: 0.9686 - val_loss: 0.8992 - val_acc: 0.7432\n",
            "Epoch 43/50\n",
            "52/52 [==============================] - 40s 749ms/step - loss: 0.0828 - acc: 0.9697 - val_loss: 1.0387 - val_acc: 0.7264\n",
            "Epoch 44/50\n",
            "52/52 [==============================] - 39s 737ms/step - loss: 0.0737 - acc: 0.9723 - val_loss: 0.8242 - val_acc: 0.7905\n",
            "Epoch 45/50\n",
            "52/52 [==============================] - 38s 723ms/step - loss: 0.0690 - acc: 0.9746 - val_loss: 1.1207 - val_acc: 0.7432\n",
            "Epoch 46/50\n",
            "52/52 [==============================] - 38s 720ms/step - loss: 0.0788 - acc: 0.9754 - val_loss: 0.8961 - val_acc: 0.7838\n",
            "Epoch 47/50\n",
            "52/52 [==============================] - 38s 726ms/step - loss: 0.0611 - acc: 0.9784 - val_loss: 0.8721 - val_acc: 0.7770\n",
            "Epoch 48/50\n",
            "52/52 [==============================] - 38s 727ms/step - loss: 0.0553 - acc: 0.9792 - val_loss: 1.1914 - val_acc: 0.7128\n",
            "Epoch 49/50\n",
            "52/52 [==============================] - 39s 730ms/step - loss: 0.0623 - acc: 0.9754 - val_loss: 1.1605 - val_acc: 0.7365\n",
            "Epoch 50/50\n",
            "52/52 [==============================] - 38s 728ms/step - loss: 0.0597 - acc: 0.9758 - val_loss: 1.0863 - val_acc: 0.7399\n"
          ]
        }
      ],
      "source": [
        "train_datagen = ImageDataGenerator(\n",
        "        rescale=1./255,\n",
        "        shear_range=0.2,\n",
        "        zoom_range=0.2,\n",
        "        horizontal_flip=True)\n",
        "\n",
        "test_datagen = ImageDataGenerator(rescale=1./255)\n",
        "\n",
        "train_generator = train_datagen.flow_from_directory(\n",
        "        train_path,\n",
        "        target_size=(224, 224),\n",
        "        batch_size=50,\n",
        "        class_mode='categorical')\n",
        "\n",
        "validation_generator = test_datagen.flow_from_directory(\n",
        "        validation_path,\n",
        "        target_size=(224, 224),\n",
        "        batch_size=10,\n",
        "        class_mode='categorical')\n",
        "\n",
        "## set steps per epoch for train\n",
        "train_filenames = train_generator.filenames\n",
        "steps_train = len(train_filenames)/train_generator.batch_size\n",
        "\n",
        "## set steps per epoch for validation\n",
        "validation_filenames = validation_generator.filenames\n",
        "steps_valid = len(validation_filenames)/validation_generator.batch_size\n",
        "\n",
        "model.compile(loss='categorical_crossentropy',\n",
        "              optimizer=optimizers.RMSprop(lr=1e-4),\n",
        "              metrics=['acc'])\n",
        "\n",
        "fit_generator_3 = model.fit_generator(\n",
        "        train_generator,\n",
        "        steps_per_epoch=steps_train,\n",
        "        epochs=50,\n",
        "        validation_data=validation_generator,\n",
        "        validation_steps=steps_valid)"
      ]
    },
    {
      "cell_type": "code",
      "execution_count": null,
      "metadata": {
        "colab": {
          "base_uri": "https://localhost:8080/"
        },
        "id": "R5dxLYXkUQph",
        "outputId": "f6c5482a-b5bb-4afb-899f-a24e289dc51e"
      },
      "outputs": [
        {
          "name": "stderr",
          "output_type": "stream",
          "text": [
            "WARNING:absl:Found untraced functions such as _jit_compiled_convolution_op, _jit_compiled_convolution_op, _jit_compiled_convolution_op, _jit_compiled_convolution_op while saving (showing 4 of 4). These functions will not be directly callable after loading.\n"
          ]
        }
      ],
      "source": [
        "model.save('groceries_basic_model_da1')"
      ]
    },
    {
      "cell_type": "code",
      "execution_count": null,
      "metadata": {
        "colab": {
          "base_uri": "https://localhost:8080/",
          "height": 975
        },
        "id": "ddKtQPhcUTO6",
        "outputId": "e5d0cae6-bead-4400-c67e-e5d444b1e65f"
      },
      "outputs": [
        {
          "name": "stderr",
          "output_type": "stream",
          "text": [
            "<ipython-input-15-8e205449dabe>:11: UserWarning: color is redundantly defined by the 'color' keyword argument and the fmt string \"b\" (-> color=(0.0, 0.0, 1.0, 1)). The keyword argument will take precedence.\n",
            "  plt.plot(epochs, val_acc, 'b', label='Validation acc', color = 'r')\n",
            "<ipython-input-15-8e205449dabe>:18: UserWarning: color is redundantly defined by the 'color' keyword argument and the fmt string \"b\" (-> color=(0.0, 0.0, 1.0, 1)). The keyword argument will take precedence.\n",
            "  plt.plot(epochs, val_loss, 'b', label='Validation loss', color = 'r')\n"
          ]
        },
        {
          "data": {
            "image/png": "[encoded data removed]",
            "text/plain": [
              "<Figure size 640x480 with 1 Axes>"
            ]
          },
          "metadata": {},
          "output_type": "display_data"
        },
        {
          "data": {
            "image/png": "[encoded data removed]",
            "text/plain": [
              "<Figure size 640x480 with 1 Axes>"
            ]
          },
          "metadata": {},
          "output_type": "display_data"
        }
      ],
      "source": [
        "import matplotlib.pyplot as plt\n",
        "\n",
        "acc = fit_generator_3.history['acc']\n",
        "val_acc = fit_generator_3.history['val_acc']\n",
        "loss = fit_generator_3.history['loss']\n",
        "val_loss = fit_generator_3.history['val_loss']\n",
        "\n",
        "epochs = range(len(acc))\n",
        "\n",
        "plt.plot(epochs, acc, 'bo', label='Training acc')\n",
        "plt.plot(epochs, val_acc, 'b', label='Validation acc', color = 'r')\n",
        "plt.title('Training and validation accuracy')\n",
        "plt.legend()\n",
        "\n",
        "plt.figure()\n",
        "\n",
        "plt.plot(epochs, loss, 'bo', label='Training loss')\n",
        "plt.plot(epochs, val_loss, 'b', label='Validation loss', color = 'r')\n",
        "plt.title('Training and validation loss')\n",
        "plt.legend()\n",
        "\n",
        "plt.show()"
      ]
    },
    {
      "cell_type": "code",
      "execution_count": null,
      "metadata": {
        "colab": {
          "base_uri": "https://localhost:8080/"
        },
        "id": "YRXFP2CaUViN",
        "outputId": "f8d7f44b-5660-4a60-8889-d50d4b74e202"
      },
      "outputs": [
        {
          "name": "stdout",
          "output_type": "stream",
          "text": [
            "Found 2640 images belonging to 3 classes.\n",
            "Found 296 images belonging to 3 classes.\n"
          ]
        },
        {
          "name": "stderr",
          "output_type": "stream",
          "text": [
            "/usr/local/lib/python3.10/dist-packages/keras/optimizers/legacy/rmsprop.py:143: UserWarning: The `lr` argument is deprecated, use `learning_rate` instead.\n",
            "  super().__init__(name, **kwargs)\n",
            "<ipython-input-16-05e52a70d2ce>:40: UserWarning: `Model.fit_generator` is deprecated and will be removed in a future version. Please use `Model.fit`, which supports generators.\n",
            "  fit_generator_4 = model.fit_generator(\n"
          ]
        },
        {
          "name": "stdout",
          "output_type": "stream",
          "text": [
            "Epoch 1/30\n",
            "52/52 [==============================] - 44s 816ms/step - loss: 0.3789 - acc: 0.8754 - val_loss: 0.7831 - val_acc: 0.7466\n",
            "Epoch 2/30\n",
            "52/52 [==============================] - 41s 769ms/step - loss: 0.2696 - acc: 0.9019 - val_loss: 0.7716 - val_acc: 0.7432\n",
            "Epoch 3/30\n",
            "52/52 [==============================] - 41s 777ms/step - loss: 0.2718 - acc: 0.8894 - val_loss: 0.6928 - val_acc: 0.7770\n",
            "Epoch 4/30\n",
            "52/52 [==============================] - 42s 793ms/step - loss: 0.2423 - acc: 0.9068 - val_loss: 0.5621 - val_acc: 0.7973\n",
            "Epoch 5/30\n",
            "52/52 [==============================] - 41s 768ms/step - loss: 0.2379 - acc: 0.9038 - val_loss: 0.6032 - val_acc: 0.7635\n",
            "Epoch 6/30\n",
            "52/52 [==============================] - 41s 773ms/step - loss: 0.2463 - acc: 0.9008 - val_loss: 0.5530 - val_acc: 0.8041\n",
            "Epoch 7/30\n",
            "52/52 [==============================] - 41s 777ms/step - loss: 0.2192 - acc: 0.9117 - val_loss: 0.5742 - val_acc: 0.8041\n",
            "Epoch 8/30\n",
            "52/52 [==============================] - 41s 767ms/step - loss: 0.2146 - acc: 0.9212 - val_loss: 0.5661 - val_acc: 0.7973\n",
            "Epoch 9/30\n",
            "52/52 [==============================] - 41s 779ms/step - loss: 0.2133 - acc: 0.9186 - val_loss: 0.5644 - val_acc: 0.7939\n",
            "Epoch 10/30\n",
            "52/52 [==============================] - 41s 772ms/step - loss: 0.2091 - acc: 0.9155 - val_loss: 0.8140 - val_acc: 0.7804\n",
            "Epoch 11/30\n",
            "52/52 [==============================] - 41s 770ms/step - loss: 0.1999 - acc: 0.9261 - val_loss: 0.6695 - val_acc: 0.7770\n",
            "Epoch 12/30\n",
            "52/52 [==============================] - 41s 775ms/step - loss: 0.1999 - acc: 0.9201 - val_loss: 0.7371 - val_acc: 0.7669\n",
            "Epoch 13/30\n",
            "52/52 [==============================] - 41s 776ms/step - loss: 0.1980 - acc: 0.9208 - val_loss: 0.6717 - val_acc: 0.7973\n",
            "Epoch 14/30\n",
            "52/52 [==============================] - 41s 778ms/step - loss: 0.1849 - acc: 0.9330 - val_loss: 0.6197 - val_acc: 0.7905\n",
            "Epoch 15/30\n",
            "52/52 [==============================] - 41s 774ms/step - loss: 0.1909 - acc: 0.9307 - val_loss: 0.7144 - val_acc: 0.7838\n",
            "Epoch 16/30\n",
            "52/52 [==============================] - 40s 756ms/step - loss: 0.1775 - acc: 0.9288 - val_loss: 0.7615 - val_acc: 0.7365\n",
            "Epoch 17/30\n",
            "52/52 [==============================] - 40s 750ms/step - loss: 0.1901 - acc: 0.9273 - val_loss: 0.6268 - val_acc: 0.7838\n",
            "Epoch 18/30\n",
            "52/52 [==============================] - 40s 754ms/step - loss: 0.1734 - acc: 0.9314 - val_loss: 0.6959 - val_acc: 0.7804\n",
            "Epoch 19/30\n",
            "52/52 [==============================] - 40s 755ms/step - loss: 0.1730 - acc: 0.9307 - val_loss: 0.6252 - val_acc: 0.7804\n",
            "Epoch 20/30\n",
            "52/52 [==============================] - 40s 751ms/step - loss: 0.1710 - acc: 0.9360 - val_loss: 0.5703 - val_acc: 0.8108\n",
            "Epoch 21/30\n",
            "52/52 [==============================] - 40s 755ms/step - loss: 0.1697 - acc: 0.9367 - val_loss: 0.5963 - val_acc: 0.7939\n",
            "Epoch 22/30\n",
            "52/52 [==============================] - 40s 752ms/step - loss: 0.1582 - acc: 0.9360 - val_loss: 0.5223 - val_acc: 0.8108\n",
            "Epoch 23/30\n",
            "52/52 [==============================] - 42s 790ms/step - loss: 0.1599 - acc: 0.9379 - val_loss: 0.6733 - val_acc: 0.7736\n",
            "Epoch 24/30\n",
            "52/52 [==============================] - 40s 761ms/step - loss: 0.1607 - acc: 0.9402 - val_loss: 0.6948 - val_acc: 0.7601\n",
            "Epoch 25/30\n",
            "52/52 [==============================] - 40s 762ms/step - loss: 0.1562 - acc: 0.9409 - val_loss: 0.7808 - val_acc: 0.7804\n",
            "Epoch 26/30\n",
            "52/52 [==============================] - 42s 791ms/step - loss: 0.1577 - acc: 0.9417 - val_loss: 0.7361 - val_acc: 0.7770\n",
            "Epoch 27/30\n",
            "52/52 [==============================] - 40s 761ms/step - loss: 0.1579 - acc: 0.9379 - val_loss: 1.0728 - val_acc: 0.7027\n",
            "Epoch 28/30\n",
            "52/52 [==============================] - 41s 776ms/step - loss: 0.1540 - acc: 0.9439 - val_loss: 0.6835 - val_acc: 0.7770\n",
            "Epoch 29/30\n",
            "52/52 [==============================] - 41s 773ms/step - loss: 0.1514 - acc: 0.9424 - val_loss: 0.6201 - val_acc: 0.7669\n",
            "Epoch 30/30\n",
            "24/52 [============>.................] - ETA: 21s - loss: 0.1321 - acc: 0.9467"
          ]
        }
      ],
      "source": [
        "## Added more types of Data Augmentation for experimenting\n",
        "## Goal is to get more data\n",
        "\n",
        "train_datagen = ImageDataGenerator(\n",
        "        rotation_range=40,\n",
        "        width_shift_range=0.2,\n",
        "        height_shift_range=0.2,\n",
        "        fill_mode='nearest',\n",
        "        rescale=1./255,\n",
        "        shear_range=0.2,\n",
        "        zoom_range=0.2,\n",
        "        horizontal_flip=True)\n",
        "\n",
        "test_datagen = ImageDataGenerator(rescale=1./255)\n",
        "\n",
        "train_generator = train_datagen.flow_from_directory(\n",
        "        train_path,\n",
        "        target_size=(224, 224),\n",
        "        batch_size=50,\n",
        "        class_mode='categorical')\n",
        "\n",
        "validation_generator = test_datagen.flow_from_directory(\n",
        "        validation_path,\n",
        "        target_size=(224, 224),\n",
        "        batch_size=10,\n",
        "        class_mode='categorical')\n",
        "\n",
        "## set steps per epoch for train\n",
        "train_filenames = train_generator.filenames\n",
        "steps_train = len(train_filenames)/train_generator.batch_size\n",
        "\n",
        "## set steps per epoch for validation\n",
        "validation_filenames = validation_generator.filenames\n",
        "steps_valid = len(validation_filenames)/validation_generator.batch_size\n",
        "\n",
        "model.compile(loss='categorical_crossentropy',\n",
        "              optimizer=optimizers.RMSprop(lr=1e-4),\n",
        "              metrics=['acc'])\n",
        "\n",
        "fit_generator_4 = model.fit_generator(\n",
        "        train_generator,\n",
        "        steps_per_epoch=steps_train,\n",
        "        epochs=30,\n",
        "        validation_data=validation_generator,\n",
        "        validation_steps=steps_valid)"
      ]
    },
    {
      "cell_type": "code",
      "execution_count": null,
      "metadata": {
        "colab": {
          "base_uri": "https://localhost:8080/",
          "height": 130
        },
        "id": "bcsSGO_RUZER",
        "outputId": "0a7fede4-4d1b-4256-8206-de187223abb9"
      },
      "outputs": [
        {
          "ename": "SyntaxError",
          "evalue": "ignored",
          "output_type": "error",
          "traceback": [
            "\u001b[0;36m  File \u001b[0;32m\"<ipython-input-19-bb5eec2ef710>\"\u001b[0;36m, line \u001b[0;32m1\u001b[0m\n\u001b[0;31m    0/30 [==============================] - 25s 829ms/step - loss: 0.1525 - acc: 0.9407 - val_loss: 0.2832 - val_acc: 0.8900\u001b[0m\n\u001b[0m                                             ^\u001b[0m\n\u001b[0;31mSyntaxError\u001b[0m\u001b[0;31m:\u001b[0m invalid decimal literal\n"
          ]
        }
      ],
      "source": [
        "import matplotlib.pyplot as plt\n",
        "\n",
        "acc = fit_generator_4.history['acc']\n",
        "val_acc = fit_generator_4.history['val_acc']\n",
        "loss = fit_generator_4.history['loss']\n",
        "val_loss = fit_generator_4.history['val_loss']\n",
        "\n",
        "epochs = range(len(acc))\n",
        "\n",
        "plt.plot(epochs, acc, 'bo', label='Training acc')\n",
        "plt.plot(epochs, val_acc, 'b', label='Validation acc', color = 'r')\n",
        "plt.title('Training and validation accuracy')\n",
        "plt.legend()\n",
        "\n",
        "plt.figure()\n",
        "\n",
        "plt.plot(epochs, loss, 'bo', label='Training loss')\n",
        "plt.plot(epochs, val_loss, 'b', label='Validation loss', color = 'r')\n",
        "plt.title('Training and validation loss')\n",
        "plt.legend()\n",
        "\n",
        "plt.show()"
      ]
    },
    {
      "cell_type": "code",
      "execution_count": null,
      "metadata": {
        "colab": {
          "base_uri": "https://localhost:8080/",
          "height": 232
        },
        "id": "sIYY7AwsUcxa",
        "outputId": "fe67c33f-f005-42ff-bf6c-cbd3094c8637"
      },
      "outputs": [
        {
          "ename": "NameError",
          "evalue": "ignored",
          "output_type": "error",
          "traceback": [
            "\u001b[0;31m---------------------------------------------------------------------------\u001b[0m",
            "\u001b[0;31mNameError\u001b[0m                                 Traceback (most recent call last)",
            "\u001b[0;32m<ipython-input-20-da84853ea5bc>\u001b[0m in \u001b[0;36m<cell line: 1>\u001b[0;34m()\u001b[0m\n\u001b[0;32m----> 1\u001b[0;31m \u001b[0mmodel2\u001b[0m \u001b[0;34m=\u001b[0m \u001b[0mmodels\u001b[0m\u001b[0;34m.\u001b[0m\u001b[0mSequential\u001b[0m\u001b[0;34m(\u001b[0m\u001b[0;34m)\u001b[0m\u001b[0;34m\u001b[0m\u001b[0;34m\u001b[0m\u001b[0m\n\u001b[0m\u001b[1;32m      2\u001b[0m model2.add(layers.Conv2D(32, (3, 3), activation='relu',\n\u001b[1;32m      3\u001b[0m                         input_shape=(224, 224, 3)))\n\u001b[1;32m      4\u001b[0m \u001b[0mmodel2\u001b[0m\u001b[0;34m.\u001b[0m\u001b[0madd\u001b[0m\u001b[0;34m(\u001b[0m\u001b[0mlayers\u001b[0m\u001b[0;34m.\u001b[0m\u001b[0mMaxPooling2D\u001b[0m\u001b[0;34m(\u001b[0m\u001b[0;34m(\u001b[0m\u001b[0;36m2\u001b[0m\u001b[0;34m,\u001b[0m \u001b[0;36m2\u001b[0m\u001b[0;34m)\u001b[0m\u001b[0;34m)\u001b[0m\u001b[0;34m)\u001b[0m\u001b[0;34m\u001b[0m\u001b[0;34m\u001b[0m\u001b[0m\n\u001b[1;32m      5\u001b[0m \u001b[0mmodel2\u001b[0m\u001b[0;34m.\u001b[0m\u001b[0madd\u001b[0m\u001b[0;34m(\u001b[0m\u001b[0mlayers\u001b[0m\u001b[0;34m.\u001b[0m\u001b[0mConv2D\u001b[0m\u001b[0;34m(\u001b[0m\u001b[0;36m64\u001b[0m\u001b[0;34m,\u001b[0m \u001b[0;34m(\u001b[0m\u001b[0;36m3\u001b[0m\u001b[0;34m,\u001b[0m \u001b[0;36m3\u001b[0m\u001b[0;34m)\u001b[0m\u001b[0;34m,\u001b[0m \u001b[0mactivation\u001b[0m\u001b[0;34m=\u001b[0m\u001b[0;34m'relu'\u001b[0m\u001b[0;34m)\u001b[0m\u001b[0;34m)\u001b[0m\u001b[0;34m\u001b[0m\u001b[0;34m\u001b[0m\u001b[0m\n",
            "\u001b[0;31mNameError\u001b[0m: name 'models' is not defined"
          ]
        }
      ],
      "source": [
        "model2 = models.Sequential()\n",
        "model2.add(layers.Conv2D(32, (3, 3), activation='relu',\n",
        "                        input_shape=(224, 224, 3)))\n",
        "model2.add(layers.MaxPooling2D((2, 2)))\n",
        "model2.add(layers.Conv2D(64, (3, 3), activation='relu'))\n",
        "model2.add(layers.MaxPooling2D((2, 2)))\n",
        "model2.add(layers.Conv2D(128, (3, 3), activation='relu'))\n",
        "model2.add(layers.MaxPooling2D((2, 2)))\n",
        "model2.add(layers.Conv2D(128, (3, 3), activation='relu'))\n",
        "model2.add(layers.MaxPooling2D((2, 2)))\n",
        "model2.add(layers.Flatten())\n",
        "model2.add(layers.Dense(512, activation='relu'))\n",
        "model2.add(Dropout(0.5))\n",
        "model2.add(layers.Dense(3, activation='softmax'))\n",
        "model2.summary()\n",
        "model.save('groceries_basic_model_dropout')"
      ]
    },
    {
      "cell_type": "code",
      "execution_count": null,
      "metadata": {
        "colab": {
          "base_uri": "https://localhost:8080/",
          "height": 232
        },
        "id": "1gdDe4saUgGn",
        "outputId": "add80f2e-7939-49da-9b13-417824ecb2b5"
      },
      "outputs": [
        {
          "ename": "NameError",
          "evalue": "ignored",
          "output_type": "error",
          "traceback": [
            "\u001b[0;31m---------------------------------------------------------------------------\u001b[0m",
            "\u001b[0;31mNameError\u001b[0m                                 Traceback (most recent call last)",
            "\u001b[0;32m<ipython-input-21-a7dd17731325>\u001b[0m in \u001b[0;36m<cell line: 16>\u001b[0;34m()\u001b[0m\n\u001b[1;32m     15\u001b[0m \u001b[0;34m\u001b[0m\u001b[0m\n\u001b[1;32m     16\u001b[0m train_generator = train_datagen.flow_from_directory(\n\u001b[0;32m---> 17\u001b[0;31m         \u001b[0mtrain_path\u001b[0m\u001b[0;34m,\u001b[0m\u001b[0;34m\u001b[0m\u001b[0;34m\u001b[0m\u001b[0m\n\u001b[0m\u001b[1;32m     18\u001b[0m         \u001b[0mtarget_size\u001b[0m\u001b[0;34m=\u001b[0m\u001b[0;34m(\u001b[0m\u001b[0;36m224\u001b[0m\u001b[0;34m,\u001b[0m \u001b[0;36m224\u001b[0m\u001b[0;34m)\u001b[0m\u001b[0;34m,\u001b[0m\u001b[0;34m\u001b[0m\u001b[0;34m\u001b[0m\u001b[0m\n\u001b[1;32m     19\u001b[0m         \u001b[0mbatch_size\u001b[0m\u001b[0;34m=\u001b[0m\u001b[0;36m20\u001b[0m\u001b[0;34m,\u001b[0m\u001b[0;34m\u001b[0m\u001b[0;34m\u001b[0m\u001b[0m\n",
            "\u001b[0;31mNameError\u001b[0m: name 'train_path' is not defined"
          ]
        }
      ],
      "source": [
        "## Added more types of Data Augmentation for experimenting\n",
        "## Goal is to get more data\n",
        "\n",
        "train_datagen = ImageDataGenerator(\n",
        "        rotation_range=40,\n",
        "        width_shift_range=0.2,\n",
        "        height_shift_range=0.2,\n",
        "        fill_mode='nearest',\n",
        "        rescale=1./255,\n",
        "        shear_range=0.2,\n",
        "        zoom_range=0.2,\n",
        "        horizontal_flip=True)\n",
        "\n",
        "test_datagen = ImageDataGenerator(rescale=1./255)\n",
        "\n",
        "train_generator = train_datagen.flow_from_directory(\n",
        "        train_path,\n",
        "        target_size=(224, 224),\n",
        "        batch_size=20,\n",
        "        class_mode='categorical')\n",
        "\n",
        "validation_generator = test_datagen.flow_from_directory(\n",
        "        validation_path,\n",
        "        target_size=(224, 224),\n",
        "        batch_size=10,\n",
        "        class_mode='categorical')\n",
        "\n",
        "model2.compile(loss='categorical_crossentropy',\n",
        "              optimizer=optimizers.RMSprop(lr=1e-4),\n",
        "              metrics=['acc'])\n",
        "\n",
        "model2_fit_generator = model2.fit_generator(\n",
        "        train_generator,\n",
        "        steps_per_epoch=75,\n",
        "        epochs=50,\n",
        "        validation_data=validation_generator,\n",
        "        validation_steps=30)"
      ]
    },
    {
      "cell_type": "code",
      "execution_count": null,
      "metadata": {
        "colab": {
          "base_uri": "https://localhost:8080/",
          "height": 164
        },
        "id": "9cJu0iUaUlgm",
        "outputId": "d5fae72c-8fa1-4331-c2be-b3660bf5857e"
      },
      "outputs": [
        {
          "ename": "NameError",
          "evalue": "ignored",
          "output_type": "error",
          "traceback": [
            "\u001b[0;31m---------------------------------------------------------------------------\u001b[0m",
            "\u001b[0;31mNameError\u001b[0m                                 Traceback (most recent call last)",
            "\u001b[0;32m<ipython-input-22-9e87f8db1bb0>\u001b[0m in \u001b[0;36m<cell line: 1>\u001b[0;34m()\u001b[0m\n\u001b[0;32m----> 1\u001b[0;31m \u001b[0mmodel2\u001b[0m\u001b[0;34m.\u001b[0m\u001b[0msave\u001b[0m\u001b[0;34m(\u001b[0m\u001b[0;34m'groceries_basic_model_dropout'\u001b[0m\u001b[0;34m)\u001b[0m\u001b[0;34m\u001b[0m\u001b[0;34m\u001b[0m\u001b[0m\n\u001b[0m",
            "\u001b[0;31mNameError\u001b[0m: name 'model2' is not defined"
          ]
        }
      ],
      "source": [
        "model2.save('groceries_basic_model_dropout')"
      ]
    },
    {
      "cell_type": "code",
      "execution_count": null,
      "metadata": {
        "colab": {
          "base_uri": "https://localhost:8080/",
          "height": 232
        },
        "id": "XZYhFhVKUo2S",
        "outputId": "908d4f72-2620-4bdc-daed-bfe49eee71aa"
      },
      "outputs": [
        {
          "ename": "NameError",
          "evalue": "ignored",
          "output_type": "error",
          "traceback": [
            "\u001b[0;31m---------------------------------------------------------------------------\u001b[0m",
            "\u001b[0;31mNameError\u001b[0m                                 Traceback (most recent call last)",
            "\u001b[0;32m<ipython-input-23-7e0423b51c8e>\u001b[0m in \u001b[0;36m<cell line: 3>\u001b[0;34m()\u001b[0m\n\u001b[1;32m      1\u001b[0m \u001b[0;32mimport\u001b[0m \u001b[0mmatplotlib\u001b[0m\u001b[0;34m.\u001b[0m\u001b[0mpyplot\u001b[0m \u001b[0;32mas\u001b[0m \u001b[0mplt\u001b[0m\u001b[0;34m\u001b[0m\u001b[0;34m\u001b[0m\u001b[0m\n\u001b[1;32m      2\u001b[0m \u001b[0;34m\u001b[0m\u001b[0m\n\u001b[0;32m----> 3\u001b[0;31m \u001b[0macc\u001b[0m \u001b[0;34m=\u001b[0m \u001b[0mmodel2_fit_generator\u001b[0m\u001b[0;34m.\u001b[0m\u001b[0mhistory\u001b[0m\u001b[0;34m[\u001b[0m\u001b[0;34m'acc'\u001b[0m\u001b[0;34m]\u001b[0m\u001b[0;34m\u001b[0m\u001b[0;34m\u001b[0m\u001b[0m\n\u001b[0m\u001b[1;32m      4\u001b[0m \u001b[0mval_acc\u001b[0m \u001b[0;34m=\u001b[0m \u001b[0mmodel2_fit_generator\u001b[0m\u001b[0;34m.\u001b[0m\u001b[0mhistory\u001b[0m\u001b[0;34m[\u001b[0m\u001b[0;34m'val_acc'\u001b[0m\u001b[0;34m]\u001b[0m\u001b[0;34m\u001b[0m\u001b[0;34m\u001b[0m\u001b[0m\n\u001b[1;32m      5\u001b[0m \u001b[0mloss\u001b[0m \u001b[0;34m=\u001b[0m \u001b[0mmodel2_fit_generator\u001b[0m\u001b[0;34m.\u001b[0m\u001b[0mhistory\u001b[0m\u001b[0;34m[\u001b[0m\u001b[0;34m'loss'\u001b[0m\u001b[0;34m]\u001b[0m\u001b[0;34m\u001b[0m\u001b[0;34m\u001b[0m\u001b[0m\n",
            "\u001b[0;31mNameError\u001b[0m: name 'model2_fit_generator' is not defined"
          ]
        }
      ],
      "source": [
        "import matplotlib.pyplot as plt\n",
        "\n",
        "acc = model2_fit_generator.history['acc']\n",
        "val_acc = model2_fit_generator.history['val_acc']\n",
        "loss = model2_fit_generator.history['loss']\n",
        "val_loss = model2_fit_generator.history['val_loss']\n",
        "\n",
        "epochs = range(len(acc))\n",
        "\n",
        "plt.plot(epochs, acc, 'bo', label='Training acc')\n",
        "plt.plot(epochs, val_acc, 'b', label='Validation acc', color = 'r')\n",
        "plt.title('Training and validation accuracy')\n",
        "plt.legend()\n",
        "\n",
        "plt.figure()\n",
        "\n",
        "plt.plot(epochs, loss, 'bo', label='Training loss')\n",
        "plt.plot(epochs, val_loss, 'b', label='Validation loss', color = 'r')\n",
        "plt.title('Training and validation loss')\n",
        "plt.legend()\n",
        "\n",
        "plt.show()"
      ]
    },
    {
      "cell_type": "code",
      "execution_count": null,
      "metadata": {
        "colab": {
          "base_uri": "https://localhost:8080/",
          "height": 232
        },
        "id": "w4cP_4b1Urbh",
        "outputId": "e3df3672-2901-4bd9-ed28-63d122ceea72"
      },
      "outputs": [
        {
          "ename": "NameError",
          "evalue": "ignored",
          "output_type": "error",
          "traceback": [
            "\u001b[0;31m---------------------------------------------------------------------------\u001b[0m",
            "\u001b[0;31mNameError\u001b[0m                                 Traceback (most recent call last)",
            "\u001b[0;32m<ipython-input-24-70d71e73ab6c>\u001b[0m in \u001b[0;36m<cell line: 3>\u001b[0;34m()\u001b[0m\n\u001b[1;32m      2\u001b[0m \u001b[0;34m\u001b[0m\u001b[0m\n\u001b[1;32m      3\u001b[0m model2_test_generator = model2_test_datagen.flow_from_directory(\n\u001b[0;32m----> 4\u001b[0;31m         \u001b[0mtest_path\u001b[0m\u001b[0;34m,\u001b[0m\u001b[0;34m\u001b[0m\u001b[0;34m\u001b[0m\u001b[0m\n\u001b[0m\u001b[1;32m      5\u001b[0m         \u001b[0mtarget_size\u001b[0m\u001b[0;34m=\u001b[0m\u001b[0;34m(\u001b[0m\u001b[0;36m224\u001b[0m\u001b[0;34m,\u001b[0m \u001b[0;36m224\u001b[0m\u001b[0;34m)\u001b[0m\u001b[0;34m,\u001b[0m\u001b[0;34m\u001b[0m\u001b[0;34m\u001b[0m\u001b[0m\n\u001b[1;32m      6\u001b[0m         \u001b[0mbatch_size\u001b[0m\u001b[0;34m=\u001b[0m\u001b[0;36m1\u001b[0m\u001b[0;34m,\u001b[0m\u001b[0;34m\u001b[0m\u001b[0;34m\u001b[0m\u001b[0m\n",
            "\u001b[0;31mNameError\u001b[0m: name 'test_path' is not defined"
          ]
        }
      ],
      "source": [
        "model2_test_datagen = ImageDataGenerator(rescale=1./255)\n",
        "\n",
        "model2_test_generator = model2_test_datagen.flow_from_directory(\n",
        "        test_path,\n",
        "        target_size=(224, 224),\n",
        "        batch_size=1,\n",
        "        shuffle = False,\n",
        "        class_mode='categorical')\n",
        "\n",
        "filenames = model2_test_generator.filenames\n",
        "nb_samples = len(filenames)\n",
        "\n",
        "model2_predict = model2.predict_generator(model2_test_generator,steps = nb_samples, verbose=2)"
      ]
    },
    {
      "cell_type": "code",
      "execution_count": null,
      "metadata": {
        "colab": {
          "base_uri": "https://localhost:8080/",
          "height": 232
        },
        "id": "DeRF9PbdUuxm",
        "outputId": "dd80049a-5cf2-42c7-a132-e37aaac3674f"
      },
      "outputs": [
        {
          "ename": "NameError",
          "evalue": "ignored",
          "output_type": "error",
          "traceback": [
            "\u001b[0;31m---------------------------------------------------------------------------\u001b[0m",
            "\u001b[0;31mNameError\u001b[0m                                 Traceback (most recent call last)",
            "\u001b[0;32m<ipython-input-25-6b0cb292eaa2>\u001b[0m in \u001b[0;36m<cell line: 1>\u001b[0;34m()\u001b[0m\n\u001b[0;32m----> 1\u001b[0;31m \u001b[0my_true\u001b[0m \u001b[0;34m=\u001b[0m \u001b[0mmodel2_test_generator\u001b[0m\u001b[0;34m.\u001b[0m\u001b[0mclasses\u001b[0m\u001b[0;34m\u001b[0m\u001b[0;34m\u001b[0m\u001b[0m\n\u001b[0m\u001b[1;32m      2\u001b[0m \u001b[0my_pred\u001b[0m \u001b[0;34m=\u001b[0m \u001b[0mmodel2_predict\u001b[0m\u001b[0;34m.\u001b[0m\u001b[0margmax\u001b[0m\u001b[0;34m(\u001b[0m\u001b[0maxis\u001b[0m\u001b[0;34m=\u001b[0m\u001b[0;36m1\u001b[0m\u001b[0;34m)\u001b[0m\u001b[0;34m\u001b[0m\u001b[0;34m\u001b[0m\u001b[0m\n\u001b[1;32m      3\u001b[0m plot_confusion_matrix(y_true, y_pred, classes=['fruits','packages','vegetables'],\n\u001b[1;32m      4\u001b[0m                       title='Confusion matrix, without normalization')\n\u001b[1;32m      5\u001b[0m \u001b[0;31m#plots(test_images, titles=test_labels)\u001b[0m\u001b[0;34m\u001b[0m\u001b[0;34m\u001b[0m\u001b[0m\n",
            "\u001b[0;31mNameError\u001b[0m: name 'model2_test_generator' is not defined"
          ]
        }
      ],
      "source": [
        "y_true = model2_test_generator.classes\n",
        "y_pred = model2_predict.argmax(axis=1)\n",
        "plot_confusion_matrix(y_true, y_pred, classes=['fruits','packages','vegetables'],\n",
        "                      title='Confusion matrix, without normalization')\n",
        "#plots(test_images, titles=test_labels)\n",
        "print(filenames)"
      ]
    },
    {
      "cell_type": "code",
      "execution_count": null,
      "metadata": {
        "id": "eQZ7kU23Uxrd"
      },
      "outputs": [],
      "source": [
        "#@title Run this to import the right things\n",
        "from __future__ import absolute_import\n",
        "from __future__ import division\n",
        "from __future__ import print_function\n",
        "\n",
        "import collections\n",
        "import math\n",
        "import os\n",
        "import random\n",
        "from six.moves import urllib\n",
        "import io\n",
        "import shutil\n",
        "import keras\n",
        "from IPython.display import clear_output, Image, display, HTML\n",
        "\n",
        "\n",
        "import tensorflow as tf\n",
        "import tensorflow_hub as hub\n",
        "\n",
        "import numpy as np\n",
        "import matplotlib.pyplot as plt\n",
        "import seaborn as sns\n",
        "import sklearn.metrics as sk_metrics\n",
        "import time\n",
        "from keras_applications.resnet50 import preprocess_input\n",
        "from keras.preprocessing.image import ImageDataGenerator\n",
        "\n",
        "from keras.applications.inception_v3 import InceptionV3\n",
        "from keras_applications.resnet50 import preprocess_input, decode_predictions, ResNet50\n",
        "from keras.preprocessing import image\n",
        "from keras import regularizers\n",
        "from keras.models import Model\n",
        "from keras.layers import Dense, GlobalAveragePooling2D, BatchNormalization, Dropout, Flatten\n",
        "from keras import backend as K"
      ]
    },
    {
      "cell_type": "code",
      "execution_count": null,
      "metadata": {
        "id": "VlJKE1z5U1rX"
      },
      "outputs": [],
      "source": [
        "from keras.applications.vgg16 import VGG16\n",
        "vgg_model = VGG16(weights = 'imagenet')"
      ]
    },
    {
      "cell_type": "code",
      "execution_count": null,
      "metadata": {
        "colab": {
          "base_uri": "https://localhost:8080/"
        },
        "id": "3RflBChYU6I-",
        "outputId": "1b7a1ee5-0413-4cef-dd1a-4a1a3c3074d0"
      },
      "outputs": [
        {
          "name": "stdout",
          "output_type": "stream",
          "text": [
            "Model: \"vgg16\"\n",
            "_________________________________________________________________\n",
            " Layer (type)                Output Shape              Param #   \n",
            "=================================================================\n",
            " input_2 (InputLayer)        [(None, 224, 224, 3)]     0         \n",
            "                                                                 \n",
            " block1_conv1 (Conv2D)       (None, 224, 224, 64)      1792      \n",
            "                                                                 \n",
            " block1_conv2 (Conv2D)       (None, 224, 224, 64)      36928     \n",
            "                                                                 \n",
            " block1_pool (MaxPooling2D)  (None, 112, 112, 64)      0         \n",
            "                                                                 \n",
            " block2_conv1 (Conv2D)       (None, 112, 112, 128)     73856     \n",
            "                                                                 \n",
            " block2_conv2 (Conv2D)       (None, 112, 112, 128)     147584    \n",
            "                                                                 \n",
            " block2_pool (MaxPooling2D)  (None, 56, 56, 128)       0         \n",
            "                                                                 \n",
            " block3_conv1 (Conv2D)       (None, 56, 56, 256)       295168    \n",
            "                                                                 \n",
            " block3_conv2 (Conv2D)       (None, 56, 56, 256)       590080    \n",
            "                                                                 \n",
            " block3_conv3 (Conv2D)       (None, 56, 56, 256)       590080    \n",
            "                                                                 \n",
            " block3_pool (MaxPooling2D)  (None, 28, 28, 256)       0         \n",
            "                                                                 \n",
            " block4_conv1 (Conv2D)       (None, 28, 28, 512)       1180160   \n",
            "                                                                 \n",
            " block4_conv2 (Conv2D)       (None, 28, 28, 512)       2359808   \n",
            "                                                                 \n",
            " block4_conv3 (Conv2D)       (None, 28, 28, 512)       2359808   \n",
            "                                                                 \n",
            " block4_pool (MaxPooling2D)  (None, 14, 14, 512)       0         \n",
            "                                                                 \n",
            " block5_conv1 (Conv2D)       (None, 14, 14, 512)       2359808   \n",
            "                                                                 \n",
            " block5_conv2 (Conv2D)       (None, 14, 14, 512)       2359808   \n",
            "                                                                 \n",
            " block5_conv3 (Conv2D)       (None, 14, 14, 512)       2359808   \n",
            "                                                                 \n",
            " block5_pool (MaxPooling2D)  (None, 7, 7, 512)         0         \n",
            "                                                                 \n",
            " flatten (Flatten)           (None, 25088)             0         \n",
            "                                                                 \n",
            " fc1 (Dense)                 (None, 4096)              102764544 \n",
            "                                                                 \n",
            " fc2 (Dense)                 (None, 4096)              16781312  \n",
            "                                                                 \n",
            " predictions (Dense)         (None, 1000)              4097000   \n",
            "                                                                 \n",
            "=================================================================\n",
            "Total params: 138,357,544\n",
            "Trainable params: 138,357,544\n",
            "Non-trainable params: 0\n",
            "_________________________________________________________________\n"
          ]
        }
      ],
      "source": [
        "vgg_model.summary()"
      ]
    },
    {
      "cell_type": "code",
      "execution_count": null,
      "metadata": {
        "colab": {
          "base_uri": "https://localhost:8080/"
        },
        "id": "jPbv02AEVQZl",
        "outputId": "56a7804d-983b-470e-d7f9-fb5df47a8757"
      },
      "outputs": [
        {
          "name": "stdout",
          "output_type": "stream",
          "text": [
            "Model: \"sequential\"\n",
            "_________________________________________________________________\n",
            " Layer (type)                Output Shape              Param #   \n",
            "=================================================================\n",
            " block1_conv1 (Conv2D)       (None, 224, 224, 64)      1792      \n",
            "                                                                 \n",
            " block1_conv2 (Conv2D)       (None, 224, 224, 64)      36928     \n",
            "                                                                 \n",
            " block1_pool (MaxPooling2D)  (None, 112, 112, 64)      0         \n",
            "                                                                 \n",
            " block2_conv1 (Conv2D)       (None, 112, 112, 128)     73856     \n",
            "                                                                 \n",
            " block2_conv2 (Conv2D)       (None, 112, 112, 128)     147584    \n",
            "                                                                 \n",
            " block2_pool (MaxPooling2D)  (None, 56, 56, 128)       0         \n",
            "                                                                 \n",
            " block3_conv1 (Conv2D)       (None, 56, 56, 256)       295168    \n",
            "                                                                 \n",
            " block3_conv2 (Conv2D)       (None, 56, 56, 256)       590080    \n",
            "                                                                 \n",
            " block3_conv3 (Conv2D)       (None, 56, 56, 256)       590080    \n",
            "                                                                 \n",
            " block3_pool (MaxPooling2D)  (None, 28, 28, 256)       0         \n",
            "                                                                 \n",
            " block4_conv1 (Conv2D)       (None, 28, 28, 512)       1180160   \n",
            "                                                                 \n",
            " block4_conv2 (Conv2D)       (None, 28, 28, 512)       2359808   \n",
            "                                                                 \n",
            " block4_conv3 (Conv2D)       (None, 28, 28, 512)       2359808   \n",
            "                                                                 \n",
            " block4_pool (MaxPooling2D)  (None, 14, 14, 512)       0         \n",
            "                                                                 \n",
            " block5_conv1 (Conv2D)       (None, 14, 14, 512)       2359808   \n",
            "                                                                 \n",
            " block5_conv2 (Conv2D)       (None, 14, 14, 512)       2359808   \n",
            "                                                                 \n",
            " block5_conv3 (Conv2D)       (None, 14, 14, 512)       2359808   \n",
            "                                                                 \n",
            " block5_pool (MaxPooling2D)  (None, 7, 7, 512)         0         \n",
            "                                                                 \n",
            " flatten (Flatten)           (None, 25088)             0         \n",
            "                                                                 \n",
            " fc1 (Dense)                 (None, 4096)              102764544 \n",
            "                                                                 \n",
            " fc2 (Dense)                 (None, 4096)              16781312  \n",
            "                                                                 \n",
            " dense (Dense)               (None, 512)               2097664   \n",
            "                                                                 \n",
            " dropout (Dropout)           (None, 512)               0         \n",
            "                                                                 \n",
            " dense_1 (Dense)             (None, 3)                 1539      \n",
            "                                                                 \n",
            "=================================================================\n",
            "Total params: 136,359,747\n",
            "Trainable params: 2,099,203\n",
            "Non-trainable params: 134,260,544\n",
            "_________________________________________________________________\n"
          ]
        }
      ],
      "source": [
        "from keras.models import Sequential\n",
        "from keras.layers import Dense\n",
        "\n",
        "vgg_transfer_base_model = Sequential()\n",
        "\n",
        "for layer in vgg_model.layers[:-1]:\n",
        "  vgg_transfer_base_model.add(layer)\n",
        "\n",
        "vgg_transfer_base_model.layers.pop()\n",
        "for layer in vgg_transfer_base_model.layers:\n",
        "  layer.trainable=False\n",
        "\n",
        "vgg_transfer_base_model.add(Dense(512, activation = 'relu'))\n",
        "vgg_transfer_base_model.add(Dropout(0.5))\n",
        "vgg_transfer_base_model.add(Dense(3, activation='softmax'))\n",
        "vgg_transfer_base_model.summary()"
      ]
    },
    {
      "cell_type": "code",
      "execution_count": null,
      "metadata": {
        "colab": {
          "base_uri": "https://localhost:8080/",
          "height": 232
        },
        "id": "0UfxdLOZVTbD",
        "outputId": "4f008e5f-8730-4f19-8f81-52642ceb9c0b"
      },
      "outputs": [
        {
          "ename": "NameError",
          "evalue": "ignored",
          "output_type": "error",
          "traceback": [
            "\u001b[0;31m---------------------------------------------------------------------------\u001b[0m",
            "\u001b[0;31mNameError\u001b[0m                                 Traceback (most recent call last)",
            "\u001b[0;32m<ipython-input-33-a8f8643fec8b>\u001b[0m in \u001b[0;36m<cell line: 16>\u001b[0;34m()\u001b[0m\n\u001b[1;32m     15\u001b[0m \u001b[0;31m## train generator\u001b[0m\u001b[0;34m\u001b[0m\u001b[0;34m\u001b[0m\u001b[0m\n\u001b[1;32m     16\u001b[0m vgg_train_generator_do = vgg_train_datagen_do.flow_from_directory(\n\u001b[0;32m---> 17\u001b[0;31m         \u001b[0mtrain_path\u001b[0m\u001b[0;34m,\u001b[0m\u001b[0;34m\u001b[0m\u001b[0;34m\u001b[0m\u001b[0m\n\u001b[0m\u001b[1;32m     18\u001b[0m         \u001b[0mtarget_size\u001b[0m\u001b[0;34m=\u001b[0m\u001b[0;34m(\u001b[0m\u001b[0;36m224\u001b[0m\u001b[0;34m,\u001b[0m \u001b[0;36m224\u001b[0m\u001b[0;34m)\u001b[0m\u001b[0;34m,\u001b[0m\u001b[0;34m\u001b[0m\u001b[0;34m\u001b[0m\u001b[0m\n\u001b[1;32m     19\u001b[0m         \u001b[0mbatch_size\u001b[0m\u001b[0;34m=\u001b[0m\u001b[0;36m25\u001b[0m\u001b[0;34m,\u001b[0m\u001b[0;34m\u001b[0m\u001b[0;34m\u001b[0m\u001b[0m\n",
            "\u001b[0;31mNameError\u001b[0m: name 'train_path' is not defined"
          ]
        }
      ],
      "source": [
        "## data augmentation datagen\n",
        "vgg_train_datagen_do = ImageDataGenerator(\n",
        "        rotation_range=40,\n",
        "        width_shift_range=0.2,\n",
        "        height_shift_range=0.2,\n",
        "        fill_mode='nearest',\n",
        "        rescale=1./255,\n",
        "        shear_range=0.2,\n",
        "        zoom_range=0.2,\n",
        "        horizontal_flip=True)\n",
        "\n",
        "## test generator, required for prediction\n",
        "vgg_test_datagen_do = ImageDataGenerator(rescale=1./255)\n",
        "\n",
        "## train generator\n",
        "vgg_train_generator_do = vgg_train_datagen_do.flow_from_directory(\n",
        "        train_path,\n",
        "        target_size=(224, 224),\n",
        "        batch_size=25,\n",
        "        class_mode='categorical')\n",
        "\n",
        "## validation generator\n",
        "vgg_validation_generator_do = vgg_test_datagen_do.flow_from_directory(\n",
        "        validation_path,\n",
        "        target_size=(224, 224),\n",
        "        batch_size=10,\n",
        "        class_mode='categorical')\n",
        "\n",
        "## compile model\n",
        "vgg_transfer_base_model.compile(loss='categorical_crossentropy',\n",
        "              optimizer=optimizers.RMSprop(lr=1e-4),\n",
        "              metrics=['acc'])\n",
        "\n",
        "\n",
        "## set steps per epoch for train\n",
        "train_filenames_do = vgg_train_generator_do.filenames\n",
        "steps_train_do = len(train_filenames_do)/vgg_train_generator_do.batch_size\n",
        "\n",
        "## set steps per epoch for validation\n",
        "validation_filenames_do = vgg_validation_generator_do.filenames\n",
        "steps_valid_do = len(validation_filenames_do)/vgg_validation_generator_do.batch_size\n",
        "\n",
        "## fit model\n",
        "vgg_base_fit_generator_do = vgg_transfer_base_model.fit_generator(\n",
        "        vgg_train_generator_do,\n",
        "        steps_per_epoch=steps_train_do,\n",
        "        epochs=50,\n",
        "        validation_data=vgg_validation_generator_do,\n",
        "        validation_steps=steps_valid_do,\n",
        "        verbose=1)"
      ]
    },
    {
      "cell_type": "code",
      "execution_count": null,
      "metadata": {
        "id": "PeRWiEGpVW_T"
      },
      "outputs": [],
      "source": []
    }
  ],
  "metadata": {
    "accelerator": "GPU",
    "colab": {
      "provenance": [],
      "gpuType": "T4"
    },
    "kernelspec": {
      "display_name": "Python 3",
      "name": "python3"
    },
    "language_info": {
      "name": "python"
    }
  },
  "nbformat": 4,
  "nbformat_minor": 0
}